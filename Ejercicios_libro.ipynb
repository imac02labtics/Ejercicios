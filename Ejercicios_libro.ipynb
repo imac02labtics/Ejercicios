{
 "cells": [
  {
   "cell_type": "markdown",
   "id": "4a4600a0-9206-4adf-9258-0811573124c6",
   "metadata": {},
   "source": [
    " - 9. Sólo para practicar. Los números telefónicos en la ciudad de Cuernavaca, Morelos, constan de siete dígitos."
   ]
  },
  {
   "cell_type": "code",
   "execution_count": 2,
   "id": "562585b5-6aae-4f3e-bbbb-17160e6fd473",
   "metadata": {},
   "outputs": [
    {
     "name": "stdout",
     "output_type": "stream",
     "text": [
      "¿Cuántas líneas telefónicas pueden crearse en esa ciudad? 9000000\n",
      "¿cuántas líneas telefónicas pertenecen a la zona 326? 10000\n"
     ]
    }
   ],
   "source": [
    "inicial = 9\n",
    "opciones = 10\n",
    "cuatro_digitos = 10 ** 4\n",
    "\n",
    "LineasTel = inicial * (opciones ** 6)\n",
    "Zona_326 = cuatro_digitos\n",
    "\n",
    "print(f\"¿Cuántas líneas telefónicas pueden crearse en esa ciudad? {LineasTel}\")\n",
    "print(f\"¿cuántas líneas telefónicas pertenecen a la zona 326? {Zona_326}\")"
   ]
  },
  {
   "cell_type": "markdown",
   "id": "335d021a-83f1-4fec-b1ae-ffb11b131d8b",
   "metadata": {},
   "source": [
    "- 10. Sólo para practicar. Se tiene la palabra MURCIÉLAGO. Si no se permiten repeticiones al usar las letras que la forman, determina:"
   ]
  },
  {
   "cell_type": "code",
   "execution_count": 1,
   "id": "fe78ec4a-6b96-4a56-9d33-63f1a684195b",
   "metadata": {},
   "outputs": [
    {
     "name": "stdout",
     "output_type": "stream",
     "text": [
      "a) Número de palabras que se pueden crear: 3628800\n"
     ]
    }
   ],
   "source": [
    "import math\n",
    "\n",
    "palabra_original = \"MURCIÉLAGO\"\n",
    "\n",
    "num_letras = len(set(palabra_original))  \n",
    "\n",
    "num_palabras_sin_repeticion = math.factorial(num_letras)\n",
    "\n",
    "print(f\"a) Número de palabras que se pueden crear: {num_palabras_sin_repeticion}\")\n"
   ]
  },
  {
   "cell_type": "code",
   "execution_count": 12,
   "id": "5f8f033f-5be9-4e54-b3c8-d52b78ac12b8",
   "metadata": {},
   "outputs": [
    {
     "name": "stdout",
     "output_type": "stream",
     "text": [
      "b) Número de palabras con cinco letras: 30240\n"
     ]
    }
   ],
   "source": [
    "\n",
    "num_palabras_cinco_letras = math.factorial(num_letras) // math.factorial(num_letras - 5)\n",
    "\n",
    "print(f\"b) Número de palabras con cinco letras: {num_palabras_cinco_letras}\")\n"
   ]
  },
  {
   "cell_type": "code",
   "execution_count": 11,
   "id": "407a8949-7b60-470f-983b-d5098fbc9148",
   "metadata": {},
   "outputs": [
    {
     "name": "stdout",
     "output_type": "stream",
     "text": [
      "c)La probabilidad de que una palabra de cinco letras termine en vocal es: 0.004166666666666667\n"
     ]
    }
   ],
   "source": [
    "n = 9 * 8 * 7 * 6 * 5\n",
    "tol = n / 3628800\n",
    "print(f\"c)La probabilidad de que una palabra de cinco letras termine en vocal es: {tol}\")"
   ]
  },
  {
   "cell_type": "markdown",
   "id": "38d09377-2135-468d-840d-280b25da96a4",
   "metadata": {},
   "source": [
    "- 11.  Parque vehicular. La Ciudad de México tiene placas de automóviles con tres números seguidos por tres letras, es decir, son placas del tipo 999-AAA. Sin embargo, no pueden empezar con 0 (cero) ni se utilizan las letras I, O, Q y Ñ.\n",
    "- ¿Cuántas placas diferentes son posibles?\n",
    "- ¿Cuántas placas diferentes terminan en vocal?\n",
    "- ¿Cuál es la probabilidad de que una placa, elegida al azar, sea impar?"
   ]
  },
  {
   "cell_type": "code",
   "execution_count": 27,
   "id": "006ef71a-eee3-4da7-ada2-b06c4cbe9b87",
   "metadata": {},
   "outputs": [
    {
     "name": "stdout",
     "output_type": "stream",
     "text": [
      "Total de placas diferentes posibles: 10950300\n",
      "Total de placas que terminan en vocal: 1428300\n",
      "Total de placas que son impares: 5475150\n",
      "Probabilidad de que una placa, elegida al azar, sea impar: 0.5\n"
     ]
    }
   ],
   "source": [
    "primer_digito = 9  \n",
    "otros_digitos = 10 \n",
    "\n",
    "num_opciones_digitos = primer_digito * otros_digitos * otros_digitos\n",
    "\n",
    "total_letras = 27  \n",
    "letras_excluidas = 4  \n",
    "\n",
    "num_letras = total_letras - letras_excluidas  \n",
    "\n",
    "num_opciones_letras = num_letras ** 3\n",
    "\n",
    "\n",
    "total_placas = num_opciones_digitos * num_opciones_letras\n",
    "\n",
    "\n",
    "num_vocales = 3  \n",
    "placas_terminan_vocal = num_opciones_digitos * (num_letras * num_letras * num_vocales)\n",
    "\n",
    "\n",
    "num_digitos_impares = 5\n",
    "placas_impares = (primer_digito * otros_digitos) * num_digitos_impares * num_opciones_letras\n",
    "\n",
    "probabilidad_impar = placas_impares / total_placas\n",
    "\n",
    "\n",
    "print(\"Total de placas diferentes posibles:\", total_placas)\n",
    "print(\"Total de placas que terminan en vocal:\", placas_terminan_vocal)\n",
    "print(\"Total de placas que son impares:\", placas_impares)\n",
    "print(\"Probabilidad de que una placa, elegida al azar, sea impar:\", probabilidad_impar)\n"
   ]
  },
  {
   "cell_type": "markdown",
   "id": "8e80786d-7370-4286-8945-42c4256558b1",
   "metadata": {},
   "source": [
    "- 12. Servicios restauranteros. Una cadena de hamburguesas anuncia que se ofrecen 512 maneras de pedir una hamburguesa. Un cliente puede elegir cualquiera de estos ingredientes: cátsup, mos- taza, mayonesa, aderezo de la casa, cebolla, pepinillos, jitomate, tocino y lechuga. ¿Crees que lo que afirma la empresa sea cierto? Justifica tu respuesta."
   ]
  },
  {
   "cell_type": "code",
   "execution_count": 28,
   "id": "7c917b61-bd30-4bb9-95d2-72050532bae9",
   "metadata": {},
   "outputs": [
    {
     "name": "stdout",
     "output_type": "stream",
     "text": [
      "Total de formas posibles: 512\n",
      "Es correcta.\n"
     ]
    }
   ],
   "source": [
    "def combina_hamburgesa(ingredientes):\n",
    "    \n",
    "    t_combinaciones = 2 ** len(ingredientes)\n",
    "\n",
    "    return t_combinaciones\n",
    "\n",
    "ingredientes = ['Cátsup', 'Mostaza', 'Mayonesa', 'Aderezo de la casa', 'Cebolla', 'Pepinillos', 'Jitomate', 'Tocino', 'Lechuga']\n",
    "\n",
    "t_combinaciones = combina_hamburgesa(ingredientes)\n",
    "print(\"Total de formas posibles:\", t_combinaciones)\n",
    "\n",
    "af_emp = 512\n",
    "\n",
    "if t_combinaciones == af_emp:\n",
    "    print(\"Es correcta.\")\n",
    "else:\n",
    "    print(\"No es correcta.\")"
   ]
  },
  {
   "cell_type": "markdown",
   "id": "f204288a-f72b-44a6-9dc0-7f5d66ffa4db",
   "metadata": {},
   "source": [
    "- 13. Una persona tiene un libro de cada uno de los autores siguientes: Mario Vargas Llosa, Alberto Ruy Sánchez, Gabriel García Márquez, Günther Grass, Patrick Süskind, Heinrich Böll, Arturo Pérez-Reverte y Camilo José Cela. Como aún no los ha leído, quiere ponerlos en una repisa cerca de su cama. De acuerdo con esto, determina:\n",
    "\n",
    "- a) ¿De cuántas formas puede acomodar los libros sobre la repisa?\n",
    "- b) ¿De cuántas maneras puede ordenarlos si quiere que los libros de autores latinoamericanos estén juntos?\n",
    "- c) ¿De cuántas formas puede acomodarlos, si los autores latinoamericanos deben estar juntos, así como los autores alemanes y los españoles también?\n",
    "- d) Determina las probabilidades correspondientes a los incisos (b) y (c)."
   ]
  },
  {
   "cell_type": "code",
   "execution_count": 29,
   "id": "7cafc35f-a679-4ed1-800c-b22571f995a4",
   "metadata": {},
   "outputs": [
    {
     "name": "stdout",
     "output_type": "stream",
     "text": [
      "40320\n"
     ]
    }
   ],
   "source": [
    "import math\n",
    "\n",
    "# ¿De cuántas formas puede acomodar los libros sobre la repisa?\n",
    "# 8!\n",
    "a = math.factorial(8)\n",
    "\n",
    "print(a)"
   ]
  },
  {
   "cell_type": "code",
   "execution_count": 30,
   "id": "e5951edd-0a5e-421f-a4a7-ff81b7912f55",
   "metadata": {},
   "outputs": [
    {
     "name": "stdout",
     "output_type": "stream",
     "text": [
      "4320\n"
     ]
    }
   ],
   "source": [
    "# ¿De cuántas maneras puede ordenarlos si quiere que los libros de autores latinoamericanos estén juntos?\n",
    "# 6! * 3!\n",
    "    \n",
    "# Maneras de ordenar 6 elementos\n",
    "elementos_6_ = math.factorial(6)\n",
    "\n",
    "# Maneras de ordenar 3 libros dentro del bloque\n",
    "libros_3_ = math.factorial(3)\n",
    "\n",
    "# Número total de maneras\n",
    "total = elementos_6_ * libros_3_\n",
    "\n",
    "\n",
    "print(total)"
   ]
  },
  {
   "cell_type": "code",
   "execution_count": 32,
   "id": "03301d3c-16a1-4849-bfac-c432b2cf850a",
   "metadata": {},
   "outputs": [
    {
     "name": "stdout",
     "output_type": "stream",
     "text": [
      "432\n"
     ]
    }
   ],
   "source": [
    "# ¿De cuántas formas puede acomodarlos, si los autores latinoamericanos deben estar juntos así como los autores alemanes y los españoles también?\n",
    "\n",
    "\n",
    "# Número de maneras de ordenar 3 bloques (Los autores de dividen en 3 bloques)\n",
    "permutaciones_b = math.factorial(3)\n",
    "\n",
    "# Maneras de ordenar libros dentro de cada bloque\n",
    "permutaciones_la = math.factorial(3)\n",
    "permutaciones_al = math.factorial(3)\n",
    "permutaciones_es = math.factorial(2)\n",
    "\n",
    "# Número total de formas\n",
    "total = (permutaciones_b * permutaciones_la * permutaciones_al * permutaciones_es)\n",
    "\n",
    "print(total)"
   ]
  },
  {
   "cell_type": "code",
   "execution_count": 34,
   "id": "876644ef-0b10-453c-822a-c092e3c35871",
   "metadata": {},
   "outputs": [
    {
     "name": "stdout",
     "output_type": "stream",
     "text": [
      "Probabilidad del inciso (b): 0.10714285714285714\n",
      "Probabilidad del inciso (c): 0.010714285714285714\n"
     ]
    }
   ],
   "source": [
    "# Determina las probabilidades correspondientes a los incisos (b) y (c).\n",
    "\n",
    "# Número total de maneras de ordenar 8 libros\n",
    "total_m = 40320\n",
    "\n",
    "# Probabilidad para el inciso (b)\n",
    "probabilidad_b = 4320 / total_m\n",
    "\n",
    "# Probabilidad para el inciso (c)\n",
    "probabilidad_c = 432 / total_m\n",
    "\n",
    "print(\"Probabilidad del inciso (b):\", probabilidad_b)\n",
    "print(\"Probabilidad del inciso (c):\", probabilidad_c)"
   ]
  },
  {
   "cell_type": "markdown",
   "id": "aa3e0a01-80aa-49e5-85e0-d7aa738ea593",
   "metadata": {},
   "source": [
    "- Ejercicio 14 Finanzas. Se va a formar un portafolio de inversión de cuatro instrumentos financieros a partir de cinco de renta fija y seis de renta variable. ¿De cuántas maneras podría formarse el portafolio si:"
   ]
  },
  {
   "cell_type": "code",
   "execution_count": 37,
   "id": "890e985c-9eec-4fc8-933b-fd1f58f89298",
   "metadata": {},
   "outputs": [
    {
     "name": "stdout",
     "output_type": "stream",
     "text": [
      "330\n"
     ]
    }
   ],
   "source": [
    "# a) No hay restricciones?\n",
    "\n",
    "# 11 = 5 renta fija + 6 renta variable\n",
    "# 4 portafolios \n",
    "\n",
    "# Número total de combinaciones posibles sin restricciones\n",
    "total = math.comb(11, 4)\n",
    "\n",
    "print(total)"
   ]
  },
  {
   "cell_type": "code",
   "execution_count": 39,
   "id": "40d6a556-5791-426f-8f80-64259741261b",
   "metadata": {},
   "outputs": [
    {
     "name": "stdout",
     "output_type": "stream",
     "text": [
      "El número de maneras de formar el portafolio con exactamente 2 instrumentos de renta fija y 2 de renta variable es: 150\n"
     ]
    }
   ],
   "source": [
    "# b) Debe haber dos instrumentos de renta fija y dos de renta variable?\n",
    "\n",
    "# Definir los valores\n",
    "renta_fija = 5\n",
    "renta_variable = 6\n",
    "portafolio = 4\n",
    "\n",
    "# Calcular las combinaciones\n",
    "combinaciones_renta_fija = math.comb(renta_fija, 2)\n",
    "combinaciones_renta_variable = math.comb(renta_variable, 2)\n",
    "\n",
    "# Multiplicar las combinaciones para obtener el total\n",
    "num_total_combinaciones = combinaciones_renta_fija * combinaciones_renta_variable\n",
    "\n",
    "print(f\"El número de maneras de formar el portafolio con exactamente 2 instrumentos de renta fija y 2 de renta variable es: {num_total_combinaciones}\")"
   ]
  },
  {
   "cell_type": "code",
   "execution_count": 41,
   "id": "f06197d0-fb8f-47ba-808c-3a47e17df531",
   "metadata": {},
   "outputs": [
    {
     "name": "stdout",
     "output_type": "stream",
     "text": [
      "El número de maneras de formar el portafolio sin ningún instrumento de renta fija es: 15\n"
     ]
    }
   ],
   "source": [
    "# c) No debe haber ningún instrumento de renta fija?\n",
    "\n",
    "# Definir los valores\n",
    "renta_variable = 6\n",
    "portafolio = 4\n",
    "\n",
    "# Calcular las combinaciones\n",
    "num_combinaciones = math.comb(renta_variable, portafolio)\n",
    "\n",
    "print(f\"El número de maneras de formar el portafolio sin ningún instrumento de renta fija es: {num_combinaciones}\")"
   ]
  },
  {
   "cell_type": "code",
   "execution_count": 43,
   "id": "6381205b-d4aa-435c-b67c-580e6209ae9d",
   "metadata": {},
   "outputs": [
    {
     "name": "stdout",
     "output_type": "stream",
     "text": [
      "El número de maneras de formar el portafolio con exactamente 3 instrumentos de renta fija y 1 de renta variable es: 60\n"
     ]
    }
   ],
   "source": [
    "# d) Debe haber tres instrumentos de renta fija?\n",
    "\n",
    "\n",
    "# Calcular las combinaciones\n",
    "combinaciones_renta_fija = math.comb(renta_fija, 3)\n",
    "combinaciones_renta_variable = math.comb(renta_variable, 1)\n",
    "\n",
    "# Multiplicar las combinaciones para obtener el total\n",
    "total_combinaciones = combinaciones_renta_fija * combinaciones_renta_variable\n",
    "\n",
    "print(f\"El número de maneras de formar el portafolio con exactamente 3 instrumentos de renta fija y 1 de renta variable es: {total_combinaciones}\")"
   ]
  },
  {
   "cell_type": "code",
   "execution_count": 45,
   "id": "045e899d-89cc-4c04-86f8-5256a584a2ec",
   "metadata": {},
   "outputs": [
    {
     "name": "stdout",
     "output_type": "stream",
     "text": [
      "Probabilidad para el inciso b): 0.4545\n",
      "Probabilidad para el inciso c): 0.0455\n",
      "Probabilidad para el inciso d): 0.1818\n"
     ]
    }
   ],
   "source": [
    "# e) Calcula las probabilidades para los incisos anteriores.\n",
    "\n",
    "# Probabilidades para los diferentes incisos\n",
    "prob_a = 1.0  # Probabilidad para inciso a) sin restricciones es siempre 1.0\n",
    "\n",
    "# Número de combinaciones calculadas previamente\n",
    "num_comb_b = 150\n",
    "num_comb_c = 15\n",
    "num_comb_d = 60\n",
    "\n",
    "# Número total de combinaciones sin restricciones\n",
    "total_combinations = 330\n",
    "\n",
    "# Calcular probabilidades para los incisos b), c) y d)\n",
    "prob_b = num_comb_b / total_combinations\n",
    "prob_c = num_comb_c / total_combinations\n",
    "prob_d = num_comb_d / total_combinations\n",
    "\n",
    "print(f\"Probabilidad para el inciso b): {prob_b:.4f}\")\n",
    "print(f\"Probabilidad para el inciso c): {prob_c:.4f}\")\n",
    "print(f\"Probabilidad para el inciso d): {prob_d:.4f}\")"
   ]
  },
  {
   "cell_type": "markdown",
   "id": "f3fa7ce7-f85a-464a-9342-98728efc22e1",
   "metadata": {},
   "source": [
    "f) Investiga qué es un instrumento de renta fija y otro de renta variable.\n",
    "\n",
    "Renta fija: Los instrumentos de renta fija son activos financieros que representan un préstamo que un inversionista hace a un emisor (generalmente un gobierno, una empresa o una entidad financiera) a cambio de recibir pagos de interés regulares y el reembolso del capital al vencimiento del instrumento.\n",
    "\n",
    "Renta Variable: son activos financieros cuyo valor puede fluctuar en el mercado, lo que significa que no hay certeza sobre el rendimiento de la inversión y el inversor asume un mayor riesgo en comparación con los instrumentos de renta fija."
   ]
  },
  {
   "cell_type": "markdown",
   "id": "3f958d73-7ee7-434c-9c26-628f00ef9c93",
   "metadata": {},
   "source": [
    "-  15. Futbol. Tres parejas (tres hombres y tres mujeres) compran boletos para ir a un partido de los\n",
    "Pumas. Cuando llegan al estadio de Ciudad Universitaria les surge la duda de cómo sentarse en\n",
    "la fila. ¿De cuántas maneras pueden hacerlo si:\n",
    "- a) No hay restricciones?\n",
    "- b) Los hombres deben sentarse juntos?\n",
    "- c) Deben sentarse por parejas?\n",
    "- d) ¿Cuál es la probabilidad de cada uno de los eventos descritos en los incisos anteriores?\n",
    "- e) ¿Crees que el futbol es un deporte sólo para hombres? Discútelo con tus compañeros de\n",
    "clase."
   ]
  },
  {
   "cell_type": "markdown",
   "id": "67c77d6e-5521-44d2-81fd-6d27458a69ad",
   "metadata": {},
   "source": [
    "a)No hay restricciones?"
   ]
  },
  {
   "cell_type": "code",
   "execution_count": 15,
   "id": "57aa7a3e-7d9c-45be-bcb0-302f4fd69f8f",
   "metadata": {},
   "outputs": [
    {
     "name": "stdout",
     "output_type": "stream",
     "text": [
      "El factorial de 6 es: 720\n"
     ]
    }
   ],
   "source": [
    "def factorial(n):\n",
    "    if n == 0:\n",
    "        return 1\n",
    "    else:\n",
    "        return n * factorial(n-1)\n",
    "\n",
    "numero = 6\n",
    "resultado = factorial(numero)\n",
    "\n",
    "print(f\"El factorial de {numero} es: {resultado}\")\n"
   ]
  },
  {
   "cell_type": "markdown",
   "id": "c7427db4-8f18-4067-97b7-11b8e762af77",
   "metadata": {},
   "source": [
    "b) Los hombres deben sentarse juntos"
   ]
  },
  {
   "cell_type": "code",
   "execution_count": 17,
   "id": "e754c8c0-4bf5-4a8c-853a-25cad1d42473",
   "metadata": {},
   "outputs": [
    {
     "name": "stdout",
     "output_type": "stream",
     "text": [
      "Número de formas en que pueden sentarse:  144\n"
     ]
    }
   ],
   "source": [
    "import math\n",
    "\n",
    "def formas_de_sentarse():\n",
    "    factorial_hombres = math.factorial(3)\n",
    "    \n",
    "    factorial_total = math.factorial(4)\n",
    "    \n",
    "    total_formas = factorial_hombres * factorial_total\n",
    "    \n",
    "    return total_formas\n",
    "\n",
    "resultado = formas_de_sentarse()\n",
    "print(\"Número de formas en que pueden sentarse: \", resultado)\n"
   ]
  },
  {
   "cell_type": "markdown",
   "id": "ce8b2426-9714-406c-b577-c01d7cc47166",
   "metadata": {},
   "source": [
    "c) Deben sentarse por parejas?"
   ]
  },
  {
   "cell_type": "code",
   "execution_count": 18,
   "id": "588cbb2a-516f-4400-84cd-67c77bbfd5dc",
   "metadata": {},
   "outputs": [
    {
     "name": "stdout",
     "output_type": "stream",
     "text": [
      "Número de formas de sentarse por parejas: 48\n"
     ]
    }
   ],
   "source": [
    "def factorial(n):\n",
    "    if n == 0 or n == 1:\n",
    "        return 1\n",
    "    else:\n",
    "        return n * factorial(n - 1)\n",
    "\n",
    "def formas_de_sentarse_por_parejas():\n",
    "    num_parejas = 3\n",
    "    \n",
    "    formas_por_parejas = factorial(num_parejas) * (2 ** num_parejas)\n",
    "     \n",
    "    return formas_por_parejas\n",
    "\n",
    "num_formas = formas_de_sentarse_por_parejas()\n",
    "\n",
    "print(\"Número de formas de sentarse por parejas:\", num_formas)\n"
   ]
  },
  {
   "cell_type": "markdown",
   "id": "ef3f61eb-62b2-4f6c-a126-068734f97c26",
   "metadata": {},
   "source": [
    "d) ¿Cuál es la probabilidad de cada uno de los eventos descritos en los incisos anteriores?"
   ]
  },
  {
   "cell_type": "code",
   "execution_count": 19,
   "id": "ae87fc62-b680-4ffa-8dd9-d52c4489fd91",
   "metadata": {},
   "outputs": [
    {
     "name": "stdout",
     "output_type": "stream",
     "text": [
      "Probabilidad sin restricciones: 1.0\n",
      "Probabilidad de que los hombres se sienten juntos: 0.2\n",
      "Probabilidad de que se sienten por parejas: 0.06666666666666667\n"
     ]
    }
   ],
   "source": [
    "def factorial(n):\n",
    "    if n == 0 or n == 1:\n",
    "        return 1\n",
    "    else:\n",
    "        return n * factorial(n - 1)\n",
    "\n",
    "def calcular_probabilidades():\n",
    "    total_formas = factorial(6)  \n",
    "    \n",
    "    formas_hombres_juntos = factorial(4) * factorial(3)  # 4 bloques (3 mujeres + 1 bloque de hombres)\n",
    "    \n",
    "\n",
    "    formas_por_parejas = factorial(3) * (2 ** 3)  # 3 bloques (3 parejas), 2 opciones por pareja\n",
    "    \n",
    "    prob_sin_restricciones = 1.0  # Como es el total\n",
    "    prob_hombres_juntos = formas_hombres_juntos / total_formas\n",
    "    prob_por_parejas = formas_por_parejas / total_formas\n",
    "    \n",
    "    return prob_sin_restricciones, prob_hombres_juntos, prob_por_parejas\n",
    "\n",
    "prob_sin_restricciones, prob_hombres_juntos, prob_por_parejas = calcular_probabilidades()\n",
    "\n",
    "print(\"Probabilidad sin restricciones:\", prob_sin_restricciones)\n",
    "print(\"Probabilidad de que los hombres se sienten juntos:\", prob_hombres_juntos)\n",
    "print(\"Probabilidad de que se sienten por parejas:\", prob_por_parejas)\n"
   ]
  },
  {
   "cell_type": "markdown",
   "id": "0147902a-7570-4e94-a204-108ac0d8febc",
   "metadata": {},
   "source": [
    "e) ¿Crees que el futbol es un deporte sólo para hombres? No"
   ]
  },
  {
   "cell_type": "markdown",
   "id": "9615b68e-775e-4162-82f6-7177a532acfa",
   "metadata": {},
   "source": [
    "-  16. Trabajo en equipo. En un grupo de 25 alumnos hay 13 chicas y 12 chicos. Se desean formar\n",
    "equipos de trabajo para realizar una investigación:\n",
    "- a) ¿Cuántos equipos de cinco personas pueden formarse?\n",
    "- b) ¿Cuántos equipos pueden formarse si debe haber una chica?\n",
    "- c) ¿Cuántos equipos pueden formarse si debe haber dos chicas?\n",
    "- d) Determina las probabilidades correspondientes a los incisos anteriores.\n",
    "- e) ¿Qué ventajas o desventajas hay al trabajar en equipo?\n",
    "  - ¿Qué habilidades se desarrollan de esta manera?\n",
    "  - Coméntalo con tus compañeros de equipo y expongan sus ideas en clase."
   ]
  },
  {
   "cell_type": "markdown",
   "id": "dcd44e76-87f6-40a3-ae7d-38ab368dcd46",
   "metadata": {},
   "source": [
    "a) ¿Cuántos equipos de cinco personas pueden formarse?"
   ]
  },
  {
   "cell_type": "code",
   "execution_count": 21,
   "id": "82137159-88d1-4511-8e2c-c4ef02430492",
   "metadata": {},
   "outputs": [
    {
     "name": "stdout",
     "output_type": "stream",
     "text": [
      "El número de equipos de 5 personas que pueden formarse es: 53130\n"
     ]
    }
   ],
   "source": [
    "def coeficiente_binomial(n, k):\n",
    "    if k > n:\n",
    "        return 0\n",
    "    if k == 0 or k == n:\n",
    "        return 1\n",
    "    \n",
    "    numerador = 1\n",
    "    denominador = 1\n",
    "    \n",
    "    for i in range(k):\n",
    "        numerador *= n - i\n",
    "        denominador *= i + 1\n",
    "        \n",
    "    return numerador // denominador\n",
    "\n",
    "total_alumnos = 25\n",
    "alumnas = 13\n",
    "alumnos = 12\n",
    "numero_por_equipo = 5\n",
    "\n",
    "equipos_posibles = coeficiente_binomial(total_alumnos, numero_por_equipo)\n",
    "\n",
    "print(f\"El número de equipos de {numero_por_equipo} personas que pueden formarse es: {equipos_posibles}\")\n"
   ]
  },
  {
   "cell_type": "markdown",
   "id": "7d0d1aa0-0ed8-4545-a798-654d36ede9f4",
   "metadata": {},
   "source": [
    "b) ¿Cuántos equipos pueden formarse si debe haber una chica?"
   ]
  },
  {
   "cell_type": "code",
   "execution_count": 23,
   "id": "d464f94f-d0a7-46c8-baf1-75882139d34c",
   "metadata": {},
   "outputs": [
    {
     "name": "stdout",
     "output_type": "stream",
     "text": [
      "Equipos con al menos una chica: 52338\n"
     ]
    }
   ],
   "source": [
    "from scipy.special import comb\n",
    "\n",
    "total_alumnos = 25\n",
    "num_chicas = 13\n",
    "num_chicos = 12\n",
    "\n",
    "total_equipos = comb(total_alumnos, 5, exact=True)\n",
    "\n",
    "equipos_sin_chica = comb(num_chicos, 5, exact=True)\n",
    "\n",
    "equipos_con_chica = total_equipos - equipos_sin_chica\n",
    "\n",
    "\n",
    "print(f\"Equipos con al menos una chica: {equipos_con_chica}\")\n"
   ]
  },
  {
   "cell_type": "markdown",
   "id": "0fc5b4b2-6190-41a5-a6ef-f363fdbf7f9b",
   "metadata": {},
   "source": [
    "c) ¿Cuántos equipos pueden formarse si debe haber dos chicas?"
   ]
  },
  {
   "cell_type": "code",
   "execution_count": 24,
   "id": "b4f49532-4b47-4475-bb8d-19263061f0c1",
   "metadata": {},
   "outputs": [
    {
     "name": "stdout",
     "output_type": "stream",
     "text": [
      "Equipos con exactamente dos chicas: 17160\n"
     ]
    }
   ],
   "source": [
    "from scipy.special import comb\n",
    "\n",
    "# Total de alumnos y número de chicas y chicos\n",
    "total_alumnos = 25\n",
    "num_chicas = 13\n",
    "num_chicos = 12\n",
    "\n",
    "# Total de equipos que se pueden formar\n",
    "total_equipos = comb(total_alumnos, 5, exact=True)\n",
    "\n",
    "# Equipos con exactamente dos chicas y tres chicos\n",
    "equipos_dos_chicas = comb(num_chicas, 2, exact=True) * comb(num_chicos, 3, exact=True)\n",
    "\n",
    "print(f\"Equipos con exactamente dos chicas: {equipos_dos_chicas}\")\n"
   ]
  },
  {
   "cell_type": "markdown",
   "id": "709e26b6-aee7-4d57-baf0-ec158866991d",
   "metadata": {},
   "source": [
    "d) Determina las probabilidades correspondientes a los incisos anteriores."
   ]
  },
  {
   "cell_type": "code",
   "execution_count": 26,
   "id": "f3046cf9-32f7-4070-999e-dfacad6ba996",
   "metadata": {},
   "outputs": [
    {
     "name": "stdout",
     "output_type": "stream",
     "text": [
      "Total de equipos posibles: 53130\n",
      "Equipos con al menos una chica: 52338\n",
      "Probabilidad de al menos una chica: 0.9851\n",
      "\n",
      "Equipos con exactamente dos chicas: 17160\n",
      "Probabilidad de exactamente dos chicas: 0.3230\n"
     ]
    }
   ],
   "source": [
    "from scipy.special import comb\n",
    "\n",
    "# Total de alumnos y número de chicas y chicos\n",
    "total_alumnos = 25\n",
    "num_chicas = 13\n",
    "num_chicos = 12\n",
    "\n",
    "# Total de equipos que se pueden formar\n",
    "total_equipos = comb(total_alumnos, 5, exact=True)\n",
    "\n",
    "# Equipos sin ninguna chica\n",
    "equipos_sin_chica = comb(num_chicos, 5, exact=True)\n",
    "\n",
    "# Equipos con al menos una chica\n",
    "equipos_con_chica = total_equipos - equipos_sin_chica\n",
    "\n",
    "# Probabilidad de tener al menos una chica\n",
    "prob_al_menos_una_chica = equipos_con_chica / total_equipos\n",
    "\n",
    "print(f\"Total de equipos posibles: {total_equipos}\")\n",
    "print(f\"Equipos con al menos una chica: {equipos_con_chica}\")\n",
    "print(f\"Probabilidad de al menos una chica: {prob_al_menos_una_chica:.4f}\")\n",
    "\n",
    "# Equipos con exactamente dos chicas y tres chicos\n",
    "equipos_dos_chicas = comb(num_chicas, 2, exact=True) * comb(num_chicos, 3, exact=True)\n",
    "\n",
    "# Probabilidad de tener exactamente dos chicas\n",
    "prob_exactamente_dos_chicas = equipos_dos_chicas / total_equipos\n",
    "\n",
    "print(f\"\\nEquipos con exactamente dos chicas: {equipos_dos_chicas}\")\n",
    "print(f\"Probabilidad de exactamente dos chicas: {prob_exactamente_dos_chicas:.4f}\")\n"
   ]
  },
  {
   "cell_type": "markdown",
   "id": "d46604ea-8f62-4dd2-bf1e-6510065375a7",
   "metadata": {},
   "source": [
    "e) ¿Qué ventajas o desventajas hay al trabajar en equipo?\n",
    "- ¿Qué habilidades se desarrollan de esta manera?\n"
   ]
  },
  {
   "cell_type": "markdown",
   "id": "d27186dc-560b-43d4-be40-661b2e1b5ed2",
   "metadata": {},
   "source": [
    "Trabajar en equipo fomenta la diversidad de habilidades y perspectivas, lo cual impulsa la innovación y soluciones más completas. Además, promueve un ambiente de aprendizaje continuo y desarrollo interpersonal, mejorando la productividad y la calidad del trabajo mediante la colaboración efectiva y la resolución conjunta de problemas."
   ]
  },
  {
   "cell_type": "markdown",
   "id": "a09282c4-a136-4ce0-bbb9-698d86280257",
   "metadata": {},
   "source": [
    "-  17. Control de calidad. Se tiene una caja con 24 latas y se sabe que dos están contaminadas. Se van a seleccionar tres latas al azar para someterlas a una prueba de control de calidad, es decir, para medir los estándares de calidad de la empresa."
   ]
  },
  {
   "cell_type": "markdown",
   "id": "63329068-191f-4dab-b6af-dcfbe9da8772",
   "metadata": {},
   "source": [
    "- a) ¿Cuántas combinaciones de tres latas pueden hacerse?\n",
    "- b) ¿Cuál es la probabilidad de que se seleccione una lata contaminada para la prueba?\n",
    "- c) ¿Cuál es la probabilidad de que se seleccione al menos una lata contaminada para la prueba?\n",
    "- d) ¿Y la probabilidad de que no se elijan latas contaminadas para la prueba?"
   ]
  },
  {
   "cell_type": "code",
   "execution_count": 49,
   "id": "bb3c9608-af75-4587-a56d-8c838ea82f5e",
   "metadata": {},
   "outputs": [
    {
     "name": "stdout",
     "output_type": "stream",
     "text": [
      "a) Total de combinaciones al seleccionar 3 latas de 24: 2024\n",
      "b) Probabilidad de seleccionar al menos una lata contaminada: 0.2391\n",
      "c) Probabilidad de seleccionar al menos una lata contaminada: 0.2391\n",
      "d) Probabilidad de no seleccionar ninguna lata contaminada: 0.7609\n"
     ]
    }
   ],
   "source": [
    "from math import comb  # Importamos la función comb de la biblioteca math\n",
    "\n",
    "# Número total de latas\n",
    "total_latas = 24\n",
    "# Número de latas contaminadas\n",
    "latas_contaminadas = 2\n",
    "# Número de latas a seleccionar\n",
    "latas_a_seleccionar = 3\n",
    "\n",
    "# a) Número de combinaciones de seleccionar 3 latas de 24\n",
    "total_combinaciones = comb(total_latas, latas_a_seleccionar)\n",
    "print(f\"a) Total de combinaciones al seleccionar 3 latas de 24: {total_combinaciones}\")\n",
    "\n",
    "# b) Probabilidad de seleccionar al menos una lata contaminada\n",
    "# Calculamos el número de combinaciones de seleccionar 3 latas sin ninguna contaminada\n",
    "latas_no_contaminadas = total_latas - latas_contaminadas\n",
    "combinaciones_no_contaminadas = comb(latas_no_contaminadas, latas_a_seleccionar)\n",
    "# Combinaciones con al menos una lata contaminada\n",
    "combinaciones_contaminadas = total_combinaciones - combinaciones_no_contaminadas\n",
    "# Probabilidad\n",
    "probabilidad_contaminada = combinaciones_contaminadas / total_combinaciones\n",
    "print(f\"b) Probabilidad de seleccionar al menos una lata contaminada: {probabilidad_contaminada:.4f}\")\n",
    "\n",
    "# c) Probabilidad de seleccionar al menos una lata contaminada (igual que b)\n",
    "print(f\"c) Probabilidad de seleccionar al menos una lata contaminada: {probabilidad_contaminada:.4f}\")\n",
    "\n",
    "# d) Probabilidad de no seleccionar ninguna lata contaminada\n",
    "probabilidad_no_contaminada = combinaciones_no_contaminadas / total_combinaciones\n",
    "print(f\"d) Probabilidad de no seleccionar ninguna lata contaminada: {probabilidad_no_contaminada:.4f}\")\n"
   ]
  }
 ],
 "metadata": {
  "kernelspec": {
   "display_name": "Python 3 (ipykernel)",
   "language": "python",
   "name": "python3"
  },
  "language_info": {
   "codemirror_mode": {
    "name": "ipython",
    "version": 3
   },
   "file_extension": ".py",
   "mimetype": "text/x-python",
   "name": "python",
   "nbconvert_exporter": "python",
   "pygments_lexer": "ipython3",
   "version": "3.11.4"
  }
 },
 "nbformat": 4,
 "nbformat_minor": 5
}
