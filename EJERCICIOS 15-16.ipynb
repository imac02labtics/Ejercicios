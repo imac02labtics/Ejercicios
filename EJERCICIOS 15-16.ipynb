{
 "cells": [
  {
   "cell_type": "markdown",
   "id": "deeaef52-8373-402b-9f00-b5bf84e6aadc",
   "metadata": {},
   "source": [
    "### Ejercicio 15"
   ]
  },
  {
   "cell_type": "markdown",
   "id": "1f0c92b4-21f4-46ad-b45a-a5d5f39f3e92",
   "metadata": {},
   "source": [
    "Futbol. Tres parejas (tres hombres y tres mujeres) compran boletos para ir a un partido de los\n",
    "Pumas. Cuando llegan al estadio de Ciudad Universitaria les surge la duda de cómo sentarse en\n",
    "la fila. ¿De cuántas maneras pueden hacerlo si:\n",
    "- a) No hay restricciones?\n",
    "- b) Los hombres deben sentarse juntos?\n",
    "- c) Deben sentarse por parejas?\n",
    "- d) ¿Cuál es la probabilidad de cada uno de los eventos descritos en los incisos anteriores?\n",
    "- e) ¿Crees que el futbol es un deporte sólo para hombres? Discútelo con tus compañeros de\n",
    "clase."
   ]
  },
  {
   "cell_type": "markdown",
   "id": "a3728275-f9a4-4d98-ab94-e207bfd81dc9",
   "metadata": {},
   "source": [
    "a)No hay restricciones?"
   ]
  },
  {
   "cell_type": "code",
   "execution_count": 1,
   "id": "e168fce4-385f-434f-ad82-a5fd3029bcc8",
   "metadata": {},
   "outputs": [
    {
     "name": "stdout",
     "output_type": "stream",
     "text": [
      "El factorial de 6 es: 720\n"
     ]
    }
   ],
   "source": [
    "# Definir una función para calcular el factorial\n",
    "def factorial(n):\n",
    "    if n == 0:\n",
    "        return 1\n",
    "    else:\n",
    "        return n * factorial(n-1)\n",
    "\n",
    "# Calcular el factorial de 6\n",
    "numero = 6\n",
    "resultado = factorial(numero)\n",
    "\n",
    "# Mostrar el resultado\n",
    "print(f\"El factorial de {numero} es: {resultado}\")\n",
    " "
   ]
  },
  {
   "cell_type": "markdown",
   "id": "d7965f60-dcbe-4dfa-9e5e-22bfe3e2f20c",
   "metadata": {},
   "source": [
    "b) Los hombres deben sentarse juntos"
   ]
  },
  {
   "cell_type": "code",
   "execution_count": 2,
   "id": "6159351d-7bf0-4b9b-bce9-1024cebefb35",
   "metadata": {},
   "outputs": [
    {
     "name": "stdout",
     "output_type": "stream",
     "text": [
      "Número de formas en que pueden sentarse:  144\n"
     ]
    }
   ],
   "source": [
    "import math\n",
    "\n",
    "# Función para calcular el número de formas de organizar los hombres y mujeres\n",
    "def formas_de_sentarse():\n",
    "    # Factorial de 3 (para los hombres)\n",
    "    factorial_hombres = math.factorial(3)\n",
    "    \n",
    "    # Factorial de 4 (para hombres y mujeres juntos)\n",
    "    factorial_total = math.factorial(4)\n",
    "    \n",
    "    # Calculamos el producto de los factoriales\n",
    "    total_formas = factorial_hombres * factorial_total\n",
    "    \n",
    "    return total_formas\n",
    "\n",
    "# Llamamos a la función y mostramos el resultado\n",
    "resultado = formas_de_sentarse()\n",
    "print(\"Número de formas en que pueden sentarse: \", resultado)\n"
   ]
  },
  {
   "cell_type": "markdown",
   "id": "bdc3a4e4-8ac0-43a3-9187-ceeee6047d0c",
   "metadata": {},
   "source": [
    "c) Deben sentarse por parejas?"
   ]
  },
  {
   "cell_type": "code",
   "execution_count": 9,
   "id": "2636d8cc-3ced-4c6a-b044-0da0d9960f53",
   "metadata": {},
   "outputs": [
    {
     "name": "stdout",
     "output_type": "stream",
     "text": [
      "Número de formas de sentarse por parejas: 48\n"
     ]
    }
   ],
   "source": [
    "def factorial(n):\n",
    "    # Función para calcular el factorial de un número n\n",
    "    if n == 0 or n == 1:\n",
    "        return 1\n",
    "    else:\n",
    "        return n * factorial(n - 1)\n",
    "\n",
    "def formas_de_sentarse_por_parejas():\n",
    "    # Número de parejas\n",
    "    num_parejas = 3\n",
    "    \n",
    "    # Calcular el número de formas por parejas\n",
    "    formas_por_parejas = factorial(num_parejas) * (2 ** num_parejas)\n",
    "     \n",
    "    return formas_por_parejas\n",
    "\n",
    "# Calcular el número de formas de sentarse por parejas\n",
    "num_formas = formas_de_sentarse_por_parejas()\n",
    "\n",
    "print(\"Número de formas de sentarse por parejas:\", num_formas)\n"
   ]
  },
  {
   "cell_type": "markdown",
   "id": "a7fe4645-7d7e-4076-8415-36fc89e6ba06",
   "metadata": {},
   "source": [
    "d) ¿Cuál es la probabilidad de cada uno de los eventos descritos en los incisos anteriores?"
   ]
  },
  {
   "cell_type": "code",
   "execution_count": 7,
   "id": "96789d78-5f5a-4acb-b39b-3a32fb103406",
   "metadata": {},
   "outputs": [
    {
     "name": "stdout",
     "output_type": "stream",
     "text": [
      "Probabilidad sin restricciones: 1.0\n",
      "Probabilidad de que los hombres se sienten juntos: 0.2\n",
      "Probabilidad de que se sienten por parejas: 0.06666666666666667\n"
     ]
    }
   ],
   "source": [
    "def factorial(n):\n",
    "    # Función para calcular el factorial de un número n\n",
    "    if n == 0 or n == 1:\n",
    "        return 1\n",
    "    else:\n",
    "        return n * factorial(n - 1)\n",
    "\n",
    "def calcular_probabilidades():\n",
    "    # Número total de formas sin restricciones\n",
    "    total_formas = factorial(6)  # 6 personas en total\n",
    "    \n",
    "    # Número de formas con hombres juntos\n",
    "    formas_hombres_juntos = factorial(4) * factorial(3)  # 4 bloques (3 mujeres + 1 bloque de hombres)\n",
    "    \n",
    "    # Número de formas por parejas\n",
    "    formas_por_parejas = factorial(3) * (2 ** 3)  # 3 bloques (3 parejas), 2 opciones por pareja\n",
    "    \n",
    "    # Calcular las probabilidades\n",
    "    prob_sin_restricciones = 1.0  # Como es el total\n",
    "    prob_hombres_juntos = formas_hombres_juntos / total_formas\n",
    "    prob_por_parejas = formas_por_parejas / total_formas\n",
    "    \n",
    "    return prob_sin_restricciones, prob_hombres_juntos, prob_por_parejas\n",
    "\n",
    "# Obtener las probabilidades calculadas\n",
    "prob_sin_restricciones, prob_hombres_juntos, prob_por_parejas = calcular_probabilidades()\n",
    "\n",
    "# Imprimir resultados\n",
    "print(\"Probabilidad sin restricciones:\", prob_sin_restricciones)\n",
    "print(\"Probabilidad de que los hombres se sienten juntos:\", prob_hombres_juntos)\n",
    "print(\"Probabilidad de que se sienten por parejas:\", prob_por_parejas)\n"
   ]
  },
  {
   "cell_type": "markdown",
   "id": "0f7d5c72-a9e2-4267-bf74-a62e03172322",
   "metadata": {},
   "source": [
    "e) ¿Crees que el futbol es un deporte sólo para hombres? "
   ]
  },
  {
   "cell_type": "markdown",
   "id": "aa06f83c-445a-4fda-a4a3-cc80ab445ad3",
   "metadata": {},
   "source": [
    "NO"
   ]
  },
  {
   "cell_type": "markdown",
   "id": "d94d9a03-5c71-4861-97b2-abd1d887f5b0",
   "metadata": {},
   "source": [
    "### Ejercicio 16"
   ]
  },
  {
   "cell_type": "markdown",
   "id": "a7242905-bad7-42da-b90a-73cf0dbc48d2",
   "metadata": {},
   "source": [
    "Trabajo en equipo. En un grupo de 25 alumnos hay 13 chicas y 12 chicos. Se desean formar\n",
    "equipos de trabajo para realizar una investigación:\n",
    "- a) ¿Cuántos equipos de cinco personas pueden formarse?\n",
    "- b) ¿Cuántos equipos pueden formarse si debe haber una chica?\n",
    "- c) ¿Cuántos equipos pueden formarse si debe haber dos chicas?\n",
    "- d) Determina las probabilidades correspondientes a los incisos anteriores.\n",
    "- e) ¿Qué ventajas o desventajas hay al trabajar en equipo?\n",
    "  - ¿Qué habilidades se desarrollan de esta manera?\n",
    "  - Coméntalo con tus compañeros de equipo y expongan sus ideas en clase."
   ]
  },
  {
   "cell_type": "markdown",
   "id": "d331ae93-0837-4a49-ad9b-a170ea36c8a3",
   "metadata": {},
   "source": [
    "a) ¿Cuántos equipos de cinco personas pueden formarse?"
   ]
  },
  {
   "cell_type": "code",
   "execution_count": 12,
   "id": "fef3556e-607e-4c3c-9d31-87ecb311943b",
   "metadata": {},
   "outputs": [
    {
     "name": "stdout",
     "output_type": "stream",
     "text": [
      "El número de equipos de 5 personas que pueden formarse es: 53130\n"
     ]
    }
   ],
   "source": [
    "# Función para calcular el coeficiente binomial (n choose k)\n",
    "def coeficiente_binomial(n, k):\n",
    "    if k > n:\n",
    "        return 0\n",
    "    if k == 0 or k == n:\n",
    "        return 1\n",
    "    \n",
    "    # Calculamos n choose k usando la fórmula del factorial\n",
    "    numerador = 1\n",
    "    denominador = 1\n",
    "    \n",
    "    for i in range(k):\n",
    "        numerador *= n - i\n",
    "        denominador *= i + 1\n",
    "        \n",
    "    return numerador // denominador\n",
    "\n",
    "# Datos del problema\n",
    "total_alumnos = 25\n",
    "alumnas = 13\n",
    "alumnos = 12\n",
    "numero_por_equipo = 5\n",
    "\n",
    "# Calculamos el número de equipos de cinco personas que pueden formarse\n",
    "equipos_posibles = coeficiente_binomial(total_alumnos, numero_por_equipo)\n",
    "\n",
    "print(f\"El número de equipos de {numero_por_equipo} personas que pueden formarse es: {equipos_posibles}\")\n"
   ]
  },
  {
   "cell_type": "markdown",
   "id": "73e2adfa-c676-4db5-a63f-0d6facd63302",
   "metadata": {},
   "source": [
    "b) ¿Cuántos equipos pueden formarse si debe haber una chica?"
   ]
  },
  {
   "cell_type": "code",
   "execution_count": 15,
   "id": "505fef1d-aeb0-4442-b73b-cdec0703e647",
   "metadata": {},
   "outputs": [
    {
     "name": "stdout",
     "output_type": "stream",
     "text": [
      "Equipos con al menos una chica: 52338\n"
     ]
    }
   ],
   "source": [
    "from scipy.special import comb\n",
    "\n",
    "# Total de alumnos y número de chicas y chicos\n",
    "total_alumnos = 25\n",
    "num_chicas = 13\n",
    "num_chicos = 12\n",
    "\n",
    "# Total de equipos que se pueden formar\n",
    "total_equipos = comb(total_alumnos, 5, exact=True)\n",
    "\n",
    "# Equipos sin ninguna chica\n",
    "equipos_sin_chica = comb(num_chicos, 5, exact=True)\n",
    "\n",
    "# Equipos con al menos una chica\n",
    "equipos_con_chica = total_equipos - equipos_sin_chica\n",
    "\n",
    "\n",
    "print(f\"Equipos con al menos una chica: {equipos_con_chica}\")\n"
   ]
  },
  {
   "cell_type": "markdown",
   "id": "5099cfa1-ec4d-49ce-96bd-6c65825015f2",
   "metadata": {},
   "source": [
    "c) ¿Cuántos equipos pueden formarse si debe haber dos chicas?"
   ]
  },
  {
   "cell_type": "code",
   "execution_count": 17,
   "id": "3baa582b-08b5-4076-9583-8b3d4dd97fed",
   "metadata": {},
   "outputs": [
    {
     "name": "stdout",
     "output_type": "stream",
     "text": [
      "Equipos con exactamente dos chicas: 17160\n"
     ]
    }
   ],
   "source": [
    "from scipy.special import comb\n",
    "\n",
    "# Total de alumnos y número de chicas y chicos\n",
    "total_alumnos = 25\n",
    "num_chicas = 13\n",
    "num_chicos = 12\n",
    "\n",
    "# Total de equipos que se pueden formar\n",
    "total_equipos = comb(total_alumnos, 5, exact=True)\n",
    "\n",
    "# Equipos con exactamente dos chicas y tres chicos\n",
    "equipos_dos_chicas = comb(num_chicas, 2, exact=True) * comb(num_chicos, 3, exact=True)\n",
    "\n",
    "print(f\"Equipos con exactamente dos chicas: {equipos_dos_chicas}\")\n"
   ]
  },
  {
   "cell_type": "markdown",
   "id": "ec4b1083-8b18-4168-882b-d172b9203f6b",
   "metadata": {},
   "source": [
    "d) Determina las probabilidades correspondientes a los incisos anteriores."
   ]
  },
  {
   "cell_type": "code",
   "execution_count": 18,
   "id": "d425b639-371b-4c8f-9b36-bc66099d1255",
   "metadata": {},
   "outputs": [
    {
     "name": "stdout",
     "output_type": "stream",
     "text": [
      "Total de equipos posibles: 53130\n",
      "Equipos con al menos una chica: 52338\n",
      "Probabilidad de al menos una chica: 0.9851\n",
      "\n",
      "Equipos con exactamente dos chicas: 17160\n",
      "Probabilidad de exactamente dos chicas: 0.3230\n"
     ]
    }
   ],
   "source": [
    "from scipy.special import comb\n",
    "\n",
    "# Total de alumnos y número de chicas y chicos\n",
    "total_alumnos = 25\n",
    "num_chicas = 13\n",
    "num_chicos = 12\n",
    "\n",
    "# Total de equipos que se pueden formar\n",
    "total_equipos = comb(total_alumnos, 5, exact=True)\n",
    "\n",
    "# Equipos sin ninguna chica\n",
    "equipos_sin_chica = comb(num_chicos, 5, exact=True)\n",
    "\n",
    "# Equipos con al menos una chica\n",
    "equipos_con_chica = total_equipos - equipos_sin_chica\n",
    "\n",
    "# Probabilidad de tener al menos una chica\n",
    "prob_al_menos_una_chica = equipos_con_chica / total_equipos\n",
    "\n",
    "print(f\"Total de equipos posibles: {total_equipos}\")\n",
    "print(f\"Equipos con al menos una chica: {equipos_con_chica}\")\n",
    "print(f\"Probabilidad de al menos una chica: {prob_al_menos_una_chica:.4f}\")\n",
    "\n",
    "# Equipos con exactamente dos chicas y tres chicos\n",
    "equipos_dos_chicas = comb(num_chicas, 2, exact=True) * comb(num_chicos, 3, exact=True)\n",
    "\n",
    "# Probabilidad de tener exactamente dos chicas\n",
    "prob_exactamente_dos_chicas = equipos_dos_chicas / total_equipos\n",
    "\n",
    "print(f\"\\nEquipos con exactamente dos chicas: {equipos_dos_chicas}\")\n",
    "print(f\"Probabilidad de exactamente dos chicas: {prob_exactamente_dos_chicas:.4f}\")\n"
   ]
  },
  {
   "cell_type": "markdown",
   "id": "9322bb49-cf7e-4b9b-bd3d-ebfa90074424",
   "metadata": {},
   "source": [
    "e) ¿Qué ventajas o desventajas hay al trabajar en equipo?\n",
    "- ¿Qué habilidades se desarrollan de esta manera?\n"
   ]
  },
  {
   "cell_type": "markdown",
   "id": "6c7a7040-3af3-4580-a486-d836221f536c",
   "metadata": {},
   "source": [
    "Trabajar en equipo fomenta la diversidad de habilidades y perspectivas, lo cual impulsa la innovación y soluciones más completas. Además, promueve un ambiente de aprendizaje continuo y desarrollo interpersonal, mejorando la productividad y la calidad del trabajo mediante la colaboración efectiva y la resolución conjunta de problemas."
   ]
  },
  {
   "cell_type": "code",
   "execution_count": null,
   "id": "8c5349e4-9931-4b9a-b4f4-7e3c945e9b60",
   "metadata": {},
   "outputs": [],
   "source": []
  }
 ],
 "metadata": {
  "kernelspec": {
   "display_name": "Python 3 (ipykernel)",
   "language": "python",
   "name": "python3"
  },
  "language_info": {
   "codemirror_mode": {
    "name": "ipython",
    "version": 3
   },
   "file_extension": ".py",
   "mimetype": "text/x-python",
   "name": "python",
   "nbconvert_exporter": "python",
   "pygments_lexer": "ipython3",
   "version": "3.11.4"
  }
 },
 "nbformat": 4,
 "nbformat_minor": 5
}
