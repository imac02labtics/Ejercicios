{
 "cells": [
  {
   "cell_type": "markdown",
   "metadata": {},
   "source": [
    "# 11 \n",
    "### Parque vehicular. La Ciudad de México tiene placas de automóviles con tres números seguidos por tres letras, es decir, son placas del tipo 999-AAA. Sin embargo, no pueden empezar con 0 (cero) ni se utilizan las letras I, O, Q y Ñ.\n",
    "- ¿Cuántas placas diferentes son posibles?\n",
    "- ¿Cuántas placas diferentes terminan en vocal?\n",
    "- ¿Cuál es la probabilidad de que una placa, elegida al azar, sea impar?"
   ]
  },
  {
   "cell_type": "code",
   "execution_count": 1,
   "metadata": {},
   "outputs": [
    {
     "name": "stdout",
     "output_type": "stream",
     "text": [
      "Total de placas diferentes posibles: 9583200\n",
      "Total de placas que terminan en vocal: 1306800\n",
      "Total de placas que son impares: 4791600\n",
      "Probabilidad de que una placa, elegida al azar, sea impar: 0.5\n"
     ]
    }
   ],
   "source": [
    "prm_num_dig = 9  \n",
    "ot_digi_num = 10 \n",
    "\n",
    "opciones_dig = prm_num_dig * ot_digi_num * ot_digi_num\n",
    "\n",
    "total_letras = 26  \n",
    "letras_excluidas = 4  \n",
    "\n",
    "num_letras = total_letras - letras_excluidas  \n",
    "\n",
    "opciones_letras = num_letras ** 3\n",
    "\n",
    "\n",
    "t_placas = opciones_dig * opciones_letras\n",
    "\n",
    "\n",
    "num_vocales = 3  \n",
    "placa_termi_vocal = opciones_dig * (num_letras * num_letras * num_vocales)\n",
    "\n",
    "\n",
    "num_digitos_impares = 5\n",
    "pla_impares = (prm_num_dig * ot_digi_num) * num_digitos_impares * opciones_letras\n",
    "\n",
    "probabilidad_impar = pla_impares / t_placas\n",
    "\n",
    "\n",
    "print(\"Total de placas diferentes posibles:\", t_placas)\n",
    "print(\"Total de placas que terminan en vocal:\", placa_termi_vocal)\n",
    "print(\"Total de placas que son impares:\", pla_impares)\n",
    "print(\"Probabilidad de que una placa, elegida al azar, sea impar:\", probabilidad_impar)\n"
   ]
  },
  {
   "cell_type": "markdown",
   "metadata": {},
   "source": [
    "# 12\n",
    "### Serviciosrestauranteros.Unacadenadehamburguesasanunciaqueseofrecen512manerasde pedir una hamburguesa. Un cliente puede elegir cualquiera de estos ingredientes: cátsup, mos- taza, mayonesa, aderezo de la casa, cebolla, pepinillos, jitomate, tocino y lechuga. ¿Crees que lo que afirma la empresa sea cierto? Justifica tu respuesta."
   ]
  },
  {
   "cell_type": "code",
   "execution_count": 2,
   "metadata": {},
   "outputs": [
    {
     "name": "stdout",
     "output_type": "stream",
     "text": [
      "Total de formas posibles: 512\n",
      "Es correcta.\n"
     ]
    }
   ],
   "source": [
    "def combina_hamburgesa(ingredientes):\n",
    "    \n",
    "    t_combinaciones = 2 ** len(ingredientes)\n",
    "\n",
    "    return t_combinaciones\n",
    "\n",
    "ingredientes = ['Cátsup', 'Mostaza', 'Mayonesa', 'Aderezo de la casa', 'Cebolla', 'Pepinillos', 'Jitomate', 'Tocino', 'Lechuga']\n",
    "\n",
    "t_combinaciones = combina_hamburgesa(ingredientes)\n",
    "print(\"Total de formas posibles:\", t_combinaciones)\n",
    "\n",
    "af_emp = 512\n",
    "\n",
    "if t_combinaciones == af_emp:\n",
    "    print(\"Es correcta.\")\n",
    "else:\n",
    "    print(\"No es correcta.\")"
   ]
  }
 ],
 "metadata": {
  "kernelspec": {
   "display_name": "Python 3",
   "language": "python",
   "name": "python3"
  },
  "language_info": {
   "codemirror_mode": {
    "name": "ipython",
    "version": 3
   },
   "file_extension": ".py",
   "mimetype": "text/x-python",
   "name": "python",
   "nbconvert_exporter": "python",
   "pygments_lexer": "ipython3",
   "version": "3.11.4"
  }
 },
 "nbformat": 4,
 "nbformat_minor": 2
}
