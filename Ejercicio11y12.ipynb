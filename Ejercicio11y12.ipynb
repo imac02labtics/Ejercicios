{
 "cells": [
  {
   "cell_type": "markdown",
   "metadata": {},
   "source": [
    "# 11 \n",
    "### Parque vehicular. La Ciudad de México tiene placas de automóviles con tres números seguidos por tres letras, es decir, son placas del tipo 999-AAA. Sin embargo, no pueden empezar con 0 (cero) ni se utilizan las letras I, O, Q y Ñ.\n",
    "- ¿Cuántas placas diferentes son posibles?\n",
    "- ¿Cuántas placas diferentes terminan en vocal?\n",
    "- ¿Cuál es la probabilidad de que una placa, elegida al azar, sea impar?"
   ]
  },
  {
   "cell_type": "code",
   "execution_count": null,
   "metadata": {
    "vscode": {
     "languageId": "plaintext"
    }
   },
   "outputs": [],
   "source": [
    "primer_digito = 9  \n",
    "otros_digitos = 10 \n",
    "\n",
    "num_opciones_digitos = primer_digito * otros_digitos * otros_digitos\n",
    "\n",
    "total_letras = 26  \n",
    "letras_excluidas = 4  \n",
    "\n",
    "num_letras = total_letras - letras_excluidas  \n",
    "\n",
    "num_opciones_letras = num_letras ** 3\n",
    "\n",
    "\n",
    "total_placas = num_opciones_digitos * num_opciones_letras\n",
    "\n",
    "\n",
    "num_vocales = 3  \n",
    "placas_terminan_vocal = num_opciones_digitos * (num_letras * num_letras * num_vocales)\n",
    "\n",
    "\n",
    "num_digitos_impares = 5\n",
    "placas_impares = (primer_digito * otros_digitos) * num_digitos_impares * num_opciones_letras\n",
    "\n",
    "probabilidad_impar = placas_impares / total_placas\n",
    "\n",
    "\n",
    "print(\"Total de placas diferentes posibles:\", total_placas)\n",
    "print(\"Total de placas que terminan en vocal:\", placas_terminan_vocal)\n",
    "print(\"Total de placas que son impares:\", placas_impares)\n",
    "print(\"Probabilidad de que una placa, elegida al azar, sea impar:\", probabilidad_impar)\n"
   ]
  }
 ],
 "metadata": {
  "language_info": {
   "name": "python"
  }
 },
 "nbformat": 4,
 "nbformat_minor": 2
}
