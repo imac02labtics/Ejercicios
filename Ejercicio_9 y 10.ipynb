{
 "cells": [
  {
   "cell_type": "code",
   "execution_count": 1,
   "id": "705b6422-4bf9-4faa-9d9c-e4af1950ec30",
   "metadata": {},
   "outputs": [
    {
     "name": "stdout",
     "output_type": "stream",
     "text": [
      "¿Cuántas líneas telefónicas pueden crearse en esa ciudad? 9000000\n",
      "¿cuántas líneas telefónicas pertenecen a la zona 326? 10000\n"
     ]
    }
   ],
   "source": [
    "inicial = 9\n",
    "opciones = 10\n",
    "cuatro_digitos = 10 ** 4\n",
    "\n",
    "LineasTel = inicial * (opciones ** 6)\n",
    "Zona_326 = cuatro_digitos\n",
    "\n",
    "print(f\"¿Cuántas líneas telefónicas pueden crearse en esa ciudad? {LineasTel}\")\n",
    "print(f\"¿cuántas líneas telefónicas pertenecen a la zona 326? {Zona_326}\")"
   ]
  },
  {
   "cell_type": "code",
   "execution_count": 8,
   "id": "1c7feefa-2fbf-4c63-a544-1c1343358dd6",
   "metadata": {},
   "outputs": [
    {
     "name": "stdout",
     "output_type": "stream",
     "text": [
      "a) Número de palabras que se pueden crear: 3628800\n"
     ]
    }
   ],
   "source": [
    "import math\n",
    "\n",
    "palabra_original = \"MURCIÉLAGO\"\n",
    "\n",
    "num_letras = len(set(palabra_original))  \n",
    "\n",
    "num_palabras_sin_repeticion = math.factorial(num_letras)\n",
    "\n",
    "print(f\"a) Número de palabras que se pueden crear: {num_palabras_sin_repeticion}\")\n"
   ]
  },
  {
   "cell_type": "code",
   "execution_count": 9,
   "id": "1144b28a-083e-45fe-b997-0043bd386cdb",
   "metadata": {},
   "outputs": [
    {
     "name": "stdout",
     "output_type": "stream",
     "text": [
      "b) Número de palabras con cinco letras: 30240\n"
     ]
    }
   ],
   "source": [
    "num_palabras_cinco_letras = math.factorial(num_letras) // math.factorial(num_letras - 5)\n",
    "\n",
    "print(f\"b) Número de palabras con cinco letras: {num_palabras_cinco_letras}\")\n"
   ]
  },
  {
   "cell_type": "code",
   "execution_count": 6,
   "id": "68e438c0-1272-4e33-8d2f-24c62ada246f",
   "metadata": {},
   "outputs": [
    {
     "name": "stdout",
     "output_type": "stream",
     "text": [
      "c)La probabilidad de que una palabra de cinco letras termine en vocal es: 0.004166666666666667\n"
     ]
    }
   ],
   "source": [
    "n = 9 * 8 * 7 * 6 * 5\n",
    "tol = n / 3628800\n",
    "print(f\"c)La probabilidad de que una palabra de cinco letras termine en vocal es: {tol}\")\n"
   ]
  }
 ],
 "metadata": {
  "kernelspec": {
   "display_name": "Python 3 (ipykernel)",
   "language": "python",
   "name": "python3"
  },
  "language_info": {
   "codemirror_mode": {
    "name": "ipython",
    "version": 3
   },
   "file_extension": ".py",
   "mimetype": "text/x-python",
   "name": "python",
   "nbconvert_exporter": "python",
   "pygments_lexer": "ipython3",
   "version": "3.11.4"
  }
 },
 "nbformat": 4,
 "nbformat_minor": 5
}
